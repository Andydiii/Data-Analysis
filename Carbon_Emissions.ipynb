{
 "cells": [
  {
   "cell_type": "markdown",
   "metadata": {},
   "source": [
    "## Step 1: Import Libraries"
   ]
  },
  {
   "cell_type": "code",
   "execution_count": 67,
   "metadata": {},
   "outputs": [],
   "source": [
    "import pandas as pd\n",
    "import numpy as np\n",
    "import seaborn as sns\n",
    "import matplotlib.pyplot as plt\n",
    "\n",
    "\n",
    "\n",
    "\n",
    "\n",
    "\n",
    "import warnings\n",
    "warnings.filterwarnings('ignore')"
   ]
  },
  {
   "cell_type": "markdown",
   "metadata": {},
   "source": [
    "## Step 2: Load the Dataset."
   ]
  },
  {
   "cell_type": "code",
   "execution_count": 68,
   "metadata": {},
   "outputs": [],
   "source": [
    "df = pd.read_csv(\"./Carbon_(CO2)_Emissions_by_Country.csv\")"
   ]
  },
  {
   "cell_type": "code",
   "execution_count": 69,
   "metadata": {},
   "outputs": [
    {
     "data": {
      "text/html": [
       "<div>\n",
       "<style scoped>\n",
       "    .dataframe tbody tr th:only-of-type {\n",
       "        vertical-align: middle;\n",
       "    }\n",
       "\n",
       "    .dataframe tbody tr th {\n",
       "        vertical-align: top;\n",
       "    }\n",
       "\n",
       "    .dataframe thead th {\n",
       "        text-align: right;\n",
       "    }\n",
       "</style>\n",
       "<table border=\"1\" class=\"dataframe\">\n",
       "  <thead>\n",
       "    <tr style=\"text-align: right;\">\n",
       "      <th></th>\n",
       "      <th>Country</th>\n",
       "      <th>Region</th>\n",
       "      <th>Date</th>\n",
       "      <th>Kilotons of Co2</th>\n",
       "      <th>Metric Tons Per Capita</th>\n",
       "    </tr>\n",
       "  </thead>\n",
       "  <tbody>\n",
       "    <tr>\n",
       "      <th>0</th>\n",
       "      <td>Afghanistan</td>\n",
       "      <td>Asia</td>\n",
       "      <td>01-01-2011</td>\n",
       "      <td>8930.0</td>\n",
       "      <td>0.31</td>\n",
       "    </tr>\n",
       "    <tr>\n",
       "      <th>1</th>\n",
       "      <td>Afghanistan</td>\n",
       "      <td>Asia</td>\n",
       "      <td>01-01-2012</td>\n",
       "      <td>8080.0</td>\n",
       "      <td>0.27</td>\n",
       "    </tr>\n",
       "    <tr>\n",
       "      <th>2</th>\n",
       "      <td>Afghanistan</td>\n",
       "      <td>Asia</td>\n",
       "      <td>01-01-2010</td>\n",
       "      <td>7110.0</td>\n",
       "      <td>0.25</td>\n",
       "    </tr>\n",
       "    <tr>\n",
       "      <th>3</th>\n",
       "      <td>Afghanistan</td>\n",
       "      <td>Asia</td>\n",
       "      <td>01-01-2019</td>\n",
       "      <td>6080.0</td>\n",
       "      <td>0.16</td>\n",
       "    </tr>\n",
       "    <tr>\n",
       "      <th>4</th>\n",
       "      <td>Afghanistan</td>\n",
       "      <td>Asia</td>\n",
       "      <td>01-01-2018</td>\n",
       "      <td>6070.0</td>\n",
       "      <td>0.17</td>\n",
       "    </tr>\n",
       "  </tbody>\n",
       "</table>\n",
       "</div>"
      ],
      "text/plain": [
       "       Country Region        Date  Kilotons of Co2  Metric Tons Per Capita\n",
       "0  Afghanistan   Asia  01-01-2011           8930.0                    0.31\n",
       "1  Afghanistan   Asia  01-01-2012           8080.0                    0.27\n",
       "2  Afghanistan   Asia  01-01-2010           7110.0                    0.25\n",
       "3  Afghanistan   Asia  01-01-2019           6080.0                    0.16\n",
       "4  Afghanistan   Asia  01-01-2018           6070.0                    0.17"
      ]
     },
     "execution_count": 69,
     "metadata": {},
     "output_type": "execute_result"
    }
   ],
   "source": [
    "df.head()"
   ]
  },
  {
   "cell_type": "code",
   "execution_count": 70,
   "metadata": {},
   "outputs": [
    {
     "data": {
      "text/plain": [
       "(5677, 5)"
      ]
     },
     "execution_count": 70,
     "metadata": {},
     "output_type": "execute_result"
    }
   ],
   "source": [
    "df.shape"
   ]
  },
  {
   "cell_type": "code",
   "execution_count": 71,
   "metadata": {},
   "outputs": [
    {
     "data": {
      "text/plain": [
       "array(['Afghanistan', 'Albania', 'Algeria', 'Andorra', 'Angola',\n",
       "       'Antigua And Barbuda', 'Argentina', 'Armenia', 'Australia',\n",
       "       'Austria', 'Azerbaijan', 'Bahamas', 'Bahrain', 'Bangladesh',\n",
       "       'Barbados', 'Belarus', 'Belgium', 'Belize', 'Benin', 'Bhutan',\n",
       "       'Bolivia', 'Bosnia', 'Botswana', 'Brazil', 'Brunei', 'Bulgaria',\n",
       "       'Burkina Faso', 'Burundi', 'Cabo Verde', 'Cambodia', 'Cameroon',\n",
       "       'Canada', 'Central African Republic', 'Chad', 'Chile', 'China',\n",
       "       'Colombia', 'Comoros', 'Costa Rica', 'Croatia', 'Cuba', 'Cyprus',\n",
       "       'Czech Republic', 'Democratic Republic Of Congo', 'Denmark',\n",
       "       'Djibouti', 'Dominica', 'Dominican Republic', 'Ecuador', 'Egypt',\n",
       "       'El Salvador', 'Equatorial Guinea', 'Eritrea', 'Estonia',\n",
       "       'Eswatini', 'Ethiopia', 'Fiji', 'Finland', 'France', 'Gabon',\n",
       "       'Gambia', 'Georgia', 'Germany', 'Ghana', 'Greece', 'Grenada',\n",
       "       'Guatemala', 'Guinea', 'Guinea-Bissau', 'Guyana', 'Haiti',\n",
       "       'Honduras', 'Hungary', 'Iceland', 'India', 'Indonesia', 'Iran',\n",
       "       'Iraq', 'Ireland', 'Israel', 'Italy', 'Jamaica', 'Japan', 'Jordan',\n",
       "       'Kazakhstan', 'Kenya', 'Kiribati', 'Kuwait', 'Kyrgyz Republic',\n",
       "       'Lao PDR', 'Latvia', 'Lebanon', 'Lesotho', 'Liberia', 'Libya',\n",
       "       'Liechtenstein', 'Lithuania', 'Luxembourg', 'Madagascar', 'Malawi',\n",
       "       'Malaysia', 'Maldives', 'Mali', 'Malta', 'Marshall Islands',\n",
       "       'Mauritania', 'Mauritius', 'Mexico', 'Micronesia', 'Moldova',\n",
       "       'Mongolia', 'Montenegro', 'Morocco', 'Mozambique', 'Myanmar',\n",
       "       'Namibia', 'Nauru', 'Nepal', 'Netherlands', 'New Zealand',\n",
       "       'Nicaragua', 'Niger', 'Nigeria', 'North Korea', 'North Macedonia',\n",
       "       'Norway', 'Oman', 'Pakistan', 'Palau', 'Panama',\n",
       "       'Papua New Guinea', 'Paraguay', 'Peru', 'Philippines', 'Poland',\n",
       "       'Portugal', 'Qatar', 'Republic Of Congo', 'Romania', 'Russia',\n",
       "       'Rwanda', 'Samoa', 'Sao Tome And Principe', 'Saudi Arabia',\n",
       "       'Senegal', 'Serbia', 'Seychelles', 'Sierra Leone', 'Singapore',\n",
       "       'Slovak Republic', 'Slovenia', 'Solomon Islands', 'Somalia',\n",
       "       'South Africa', 'South Korea', 'South Sudan', 'Spain', 'Sri Lanka',\n",
       "       'St. Kitts And Nevis', 'St. Lucia',\n",
       "       'St. Vincent And The Grenadines', 'Sudan', 'Suriname', 'Sweden',\n",
       "       'Switzerland', 'Syrian Arab Republic', 'Tajikistan', 'Tanzania',\n",
       "       'Thailand', 'Timor-Leste', 'Togo', 'Tonga', 'Trinidad And Tobago',\n",
       "       'Tunisia', 'Turkey', 'Turkmenistan', 'Tuvalu', 'UAE', 'Uganda',\n",
       "       'Ukraine', 'United Kingdom', 'United States', 'Uruguay',\n",
       "       'Uzbekistan', 'Vanuatu', 'Venezuela', 'Vietnam', 'Yemen', 'Zambia',\n",
       "       'Zimbabwe'], dtype=object)"
      ]
     },
     "execution_count": 71,
     "metadata": {},
     "output_type": "execute_result"
    }
   ],
   "source": [
    "df['Country'].unique()"
   ]
  },
  {
   "cell_type": "code",
   "execution_count": 72,
   "metadata": {},
   "outputs": [
    {
     "data": {
      "text/plain": [
       "190"
      ]
     },
     "execution_count": 72,
     "metadata": {},
     "output_type": "execute_result"
    }
   ],
   "source": [
    "df[\"Country\"].nunique()"
   ]
  },
  {
   "cell_type": "code",
   "execution_count": 73,
   "metadata": {},
   "outputs": [
    {
     "name": "stdout",
     "output_type": "stream",
     "text": [
      "<class 'pandas.core.frame.DataFrame'>\n",
      "RangeIndex: 5677 entries, 0 to 5676\n",
      "Data columns (total 5 columns):\n",
      " #   Column                  Non-Null Count  Dtype  \n",
      "---  ------                  --------------  -----  \n",
      " 0   Country                 5677 non-null   object \n",
      " 1   Region                  5677 non-null   object \n",
      " 2   Date                    5677 non-null   object \n",
      " 3   Kilotons of Co2         5677 non-null   float64\n",
      " 4   Metric Tons Per Capita  5677 non-null   float64\n",
      "dtypes: float64(2), object(3)\n",
      "memory usage: 221.9+ KB\n"
     ]
    }
   ],
   "source": [
    "df.info()"
   ]
  },
  {
   "cell_type": "code",
   "execution_count": 74,
   "metadata": {},
   "outputs": [
    {
     "data": {
      "text/html": [
       "<div>\n",
       "<style scoped>\n",
       "    .dataframe tbody tr th:only-of-type {\n",
       "        vertical-align: middle;\n",
       "    }\n",
       "\n",
       "    .dataframe tbody tr th {\n",
       "        vertical-align: top;\n",
       "    }\n",
       "\n",
       "    .dataframe thead th {\n",
       "        text-align: right;\n",
       "    }\n",
       "</style>\n",
       "<table border=\"1\" class=\"dataframe\">\n",
       "  <thead>\n",
       "    <tr style=\"text-align: right;\">\n",
       "      <th></th>\n",
       "      <th>Kilotons of Co2</th>\n",
       "      <th>Metric Tons Per Capita</th>\n",
       "    </tr>\n",
       "  </thead>\n",
       "  <tbody>\n",
       "    <tr>\n",
       "      <th>count</th>\n",
       "      <td>5.677000e+03</td>\n",
       "      <td>5677.000000</td>\n",
       "    </tr>\n",
       "    <tr>\n",
       "      <th>mean</th>\n",
       "      <td>1.412292e+05</td>\n",
       "      <td>4.325505</td>\n",
       "    </tr>\n",
       "    <tr>\n",
       "      <th>std</th>\n",
       "      <td>6.491258e+05</td>\n",
       "      <td>5.503834</td>\n",
       "    </tr>\n",
       "    <tr>\n",
       "      <th>min</th>\n",
       "      <td>0.000000e+00</td>\n",
       "      <td>0.000000</td>\n",
       "    </tr>\n",
       "    <tr>\n",
       "      <th>25%</th>\n",
       "      <td>1.380000e+03</td>\n",
       "      <td>0.570000</td>\n",
       "    </tr>\n",
       "    <tr>\n",
       "      <th>50%</th>\n",
       "      <td>9.170000e+03</td>\n",
       "      <td>2.360000</td>\n",
       "    </tr>\n",
       "    <tr>\n",
       "      <th>75%</th>\n",
       "      <td>5.848000e+04</td>\n",
       "      <td>6.340000</td>\n",
       "    </tr>\n",
       "    <tr>\n",
       "      <th>max</th>\n",
       "      <td>1.070722e+07</td>\n",
       "      <td>47.650000</td>\n",
       "    </tr>\n",
       "  </tbody>\n",
       "</table>\n",
       "</div>"
      ],
      "text/plain": [
       "       Kilotons of Co2  Metric Tons Per Capita\n",
       "count     5.677000e+03             5677.000000\n",
       "mean      1.412292e+05                4.325505\n",
       "std       6.491258e+05                5.503834\n",
       "min       0.000000e+00                0.000000\n",
       "25%       1.380000e+03                0.570000\n",
       "50%       9.170000e+03                2.360000\n",
       "75%       5.848000e+04                6.340000\n",
       "max       1.070722e+07               47.650000"
      ]
     },
     "execution_count": 74,
     "metadata": {},
     "output_type": "execute_result"
    }
   ],
   "source": [
    "df.describe()"
   ]
  },
  {
   "cell_type": "markdown",
   "metadata": {},
   "source": [
    "## Step3: Data Cleaning and Exploration."
   ]
  },
  {
   "cell_type": "code",
   "execution_count": 75,
   "metadata": {},
   "outputs": [
    {
     "data": {
      "text/plain": [
       "Country                   0\n",
       "Region                    0\n",
       "Date                      0\n",
       "Kilotons of Co2           0\n",
       "Metric Tons Per Capita    0\n",
       "dtype: int64"
      ]
     },
     "execution_count": 75,
     "metadata": {},
     "output_type": "execute_result"
    }
   ],
   "source": [
    "df.isnull().sum()"
   ]
  },
  {
   "cell_type": "code",
   "execution_count": 76,
   "metadata": {},
   "outputs": [
    {
     "data": {
      "text/plain": [
       "0      2011-01-01\n",
       "1      2012-01-01\n",
       "2      2010-01-01\n",
       "3      2019-01-01\n",
       "4      2018-01-01\n",
       "          ...    \n",
       "5672   2004-01-01\n",
       "5673   2007-01-01\n",
       "5674   2010-01-01\n",
       "5675   2009-01-01\n",
       "5676   2008-01-01\n",
       "Name: Date, Length: 5677, dtype: datetime64[ns]"
      ]
     },
     "execution_count": 76,
     "metadata": {},
     "output_type": "execute_result"
    }
   ],
   "source": [
    "df['Date'] = pd.to_datetime(df['Date'])\n",
    "df['Date']"
   ]
  },
  {
   "cell_type": "code",
   "execution_count": 77,
   "metadata": {},
   "outputs": [
    {
     "name": "stdout",
     "output_type": "stream",
     "text": [
      "<class 'pandas.core.frame.DataFrame'>\n",
      "RangeIndex: 5677 entries, 0 to 5676\n",
      "Data columns (total 5 columns):\n",
      " #   Column                  Non-Null Count  Dtype         \n",
      "---  ------                  --------------  -----         \n",
      " 0   Country                 5677 non-null   object        \n",
      " 1   Region                  5677 non-null   object        \n",
      " 2   Date                    5677 non-null   datetime64[ns]\n",
      " 3   Kilotons of Co2         5677 non-null   float64       \n",
      " 4   Metric Tons Per Capita  5677 non-null   float64       \n",
      "dtypes: datetime64[ns](1), float64(2), object(2)\n",
      "memory usage: 221.9+ KB\n"
     ]
    }
   ],
   "source": [
    "df.info()"
   ]
  },
  {
   "cell_type": "markdown",
   "metadata": {},
   "source": [
    "## Step 4: Exploratory Data Analysis (EDA)"
   ]
  },
  {
   "cell_type": "code",
   "execution_count": 78,
   "metadata": {},
   "outputs": [
    {
     "name": "stdout",
     "output_type": "stream",
     "text": [
      "Region\n",
      "Africa       18387.753950\n",
      "Americas    204381.210200\n",
      "Asia        262610.714557\n",
      "Europe      145825.438943\n",
      "Oceania      27821.352633\n",
      "Name: Kilotons of Co2, dtype: float64 \n",
      "\n",
      "Date\n",
      "1990    20341800.00\n",
      "1991    20482540.00\n",
      "1992    20513040.00\n",
      "1993    20651120.00\n",
      "1994    20765250.00\n",
      "1995    21356750.00\n",
      "1996    21807640.00\n",
      "1997    22183020.00\n",
      "1998    22303000.00\n",
      "1999    22406130.00\n",
      "2000    23123390.00\n",
      "2001    23518340.00\n",
      "2002    23833349.80\n",
      "2003    24939900.31\n",
      "2004    26073289.89\n",
      "2005    27039670.03\n",
      "2006    27916500.20\n",
      "2007    28968049.92\n",
      "2008    29191159.84\n",
      "2009    28867640.01\n",
      "2010    30619529.64\n",
      "2011    31584239.82\n",
      "2012    32015620.18\n",
      "2013    32665170.52\n",
      "2014    32742940.00\n",
      "2015    32541869.55\n",
      "2016    32564800.27\n",
      "2017    33053139.82\n",
      "2018    33817899.77\n",
      "2019    33871179.99\n",
      "Name: Kilotons of Co2, dtype: float64\n"
     ]
    }
   ],
   "source": [
    "# mean of Kilotons of CO2 by different region\n",
    "regional_emissions = df.groupby(\"Region\")[\"Kilotons of Co2\"].mean()\n",
    "print(regional_emissions, \"\\n\")\n",
    "\n",
    "# yearly total CO2 emmission for all region\n",
    "yearly_emissions = df.groupby(df[\"Date\"].dt.year)[\"Kilotons of Co2\"].sum()\n",
    "print(yearly_emissions)"
   ]
  },
  {
   "cell_type": "code",
   "execution_count": 110,
   "metadata": {},
   "outputs": [
    {
     "data": {
      "image/png": "[encoded data removed]",
      "text/plain": [
       "<Figure size 800x400 with 1 Axes>"
      ]
     },
     "metadata": {},
     "output_type": "display_data"
    }
   ],
   "source": [
    "# line plot: Yearly CO2 emissions\n",
    "plt.figure(figsize=(8, 4))\n",
    "sns.lineplot(x=yearly_emissions.index, y=yearly_emissions.values)\n",
    "plt.title(\"Yearly emissions line plot\")\n",
    "plt.xlabel(\"year\")\n",
    "plt.ylabel(\"Emissions in Kilotons\")\n",
    "plt.grid()\n",
    "plt.show()"
   ]
  },
  {
   "cell_type": "code",
   "execution_count": 111,
   "metadata": {},
   "outputs": [
    {
     "data": {
      "image/png": "[encoded data removed]",
      "text/plain": [
       "<Figure size 800x400 with 1 Axes>"
      ]
     },
     "metadata": {},
     "output_type": "display_data"
    }
   ],
   "source": [
    "# bar plot: average CO2 emissions by regions\n",
    "plt.figure(figsize=(8,4))\n",
    "sns.barplot(x=regional_emissions.index, y=regional_emissions.values)\n",
    "plt.title(\"Average CO2 emissions by Regions\")\n",
    "plt.xlabel(\"Region\")\n",
    "plt.ylabel(\"Emissions in Kilotons\")\n",
    "plt.grid()\n",
    "plt.show()"
   ]
  }
 ],
 "metadata": {
  "kernelspec": {
   "display_name": "Python 3",
   "language": "python",
   "name": "python3"
  },
  "language_info": {
   "codemirror_mode": {
    "name": "ipython",
    "version": 3
   },
   "file_extension": ".py",
   "mimetype": "text/x-python",
   "name": "python",
   "nbconvert_exporter": "python",
   "pygments_lexer": "ipython3",
   "version": "3.13.0"
  }
 },
 "nbformat": 4,
 "nbformat_minor": 2
}
